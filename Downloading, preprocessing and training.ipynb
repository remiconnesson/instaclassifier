{
 "cells": [
  {
   "cell_type": "code",
   "execution_count": 29,
   "metadata": {},
   "outputs": [],
   "source": [
    "import pathlib\n",
    "import os"
   ]
  },
  {
   "cell_type": "markdown",
   "metadata": {},
   "source": [
    "# Create file structure"
   ]
  },
  {
   "cell_type": "code",
   "execution_count": 50,
   "metadata": {},
   "outputs": [],
   "source": [
    "p = pathlib.Path('.')"
   ]
  },
  {
   "cell_type": "code",
   "execution_count": 49,
   "metadata": {},
   "outputs": [],
   "source": [
    "for c in ['vegan', 'not_vegan']:\n",
    "        os.makedirs(p/'data'/c, exist_ok=True)"
   ]
  },
  {
   "cell_type": "code",
   "execution_count": 52,
   "metadata": {},
   "outputs": [
    {
     "data": {
      "text/plain": [
       "[PosixPath('data/not_vegan'), PosixPath('data/vegan')]"
      ]
     },
     "execution_count": 52,
     "metadata": {},
     "output_type": "execute_result"
    }
   ],
   "source": [
    "ls = lambda x : list(x.iterdir())\n",
    "\n",
    "ls(p/'data')"
   ]
  },
  {
   "cell_type": "markdown",
   "metadata": {},
   "source": [
    "# Scrape Instragram"
   ]
  },
  {
   "cell_type": "code",
   "execution_count": 44,
   "metadata": {},
   "outputs": [
    {
     "name": "stdout",
     "output_type": "stream",
     "text": [
      "Collecting instagram-scraper\n",
      "Requirement already satisfied: tqdm>=3.8.0 in /home/sandrine_verdugier/anaconda3/lib/python3.7/site-packages (from instagram-scraper) (4.28.1)\n",
      "Requirement already satisfied: requests>=2.18.4 in /home/sandrine_verdugier/anaconda3/lib/python3.7/site-packages (from instagram-scraper) (2.21.0)\n",
      "Requirement already satisfied: idna<2.9,>=2.5 in /home/sandrine_verdugier/anaconda3/lib/python3.7/site-packages (from requests>=2.18.4->instagram-scraper) (2.8)\n",
      "Requirement already satisfied: certifi>=2017.4.17 in /home/sandrine_verdugier/anaconda3/lib/python3.7/site-packages (from requests>=2.18.4->instagram-scraper) (2018.11.29)\n",
      "Requirement already satisfied: chardet<3.1.0,>=3.0.2 in /home/sandrine_verdugier/anaconda3/lib/python3.7/site-packages (from requests>=2.18.4->instagram-scraper) (3.0.4)\n",
      "Requirement already satisfied: urllib3<1.25,>=1.21.1 in /home/sandrine_verdugier/anaconda3/lib/python3.7/site-packages (from requests>=2.18.4->instagram-scraper) (1.24.1)\n",
      "Installing collected packages: instagram-scraper\n",
      "Successfully installed instagram-scraper-1.5.41\n"
     ]
    }
   ],
   "source": [
    "!pip install instagram-scraper"
   ]
  },
  {
   "cell_type": "code",
   "execution_count": null,
   "metadata": {},
   "outputs": [],
   "source": [
    "# !instagram_scaper -h"
   ]
  },
  {
   "cell_type": "code",
   "execution_count": 41,
   "metadata": {},
   "outputs": [],
   "source": [
    "vegan_food_accounts     = \"buddha_bowls,vegan_bowls,vegansrecipe,thevegansclub,thevegansclublifestyle,thefeedfeed.vegan\".split(',')\n",
    "\n",
    "not_vegan_food_accounts = \"jimboystaco,burgersofthedays,sushiporn,foodgawker,cy_eats,ks_ate_here,thefeedfeed,huttoneats\".split(',')"
   ]
  },
  {
   "cell_type": "code",
   "execution_count": 56,
   "metadata": {},
   "outputs": [
    {
     "name": "stdout",
     "output_type": "stream",
     "text": [
      "Scraping 33 for each of the 6 accounts.\n",
      "Searching buddha_bowls for profile pic: 100% 1/1 [00:00<00:00, 1158.33 images/s]\n",
      "Searching buddha_bowls for posts: 1 media [00:00,  1.09 media/s]\n",
      "Downloading: 100%|##########| 33/33 [00:04<00:00,  7.66it/s]\n",
      "Searching vegan_bowls for posts: 0 media [00:00, ? media/s]\n",
      "Searching vegansrecipe for profile pic: 100% 1/1 [00:00<00:00, 1343.90 images/s]\n",
      "Searching vegansrecipe for posts: 1 media [00:06,  6.80s/ media]\n",
      "Downloading: 100%|##########| 23/23 [00:05<00:00,  2.82it/s]\n",
      "Searching thevegansclub for profile pic: 100% 1/1 [00:00<00:00, 1412.70 images/s]\n",
      "Searching thevegansclub for posts: 1 media [00:01,  1.49s/ media]\n",
      "Downloading: 100%|##########| 33/33 [00:04<00:00,  6.53it/s]\n",
      "Searching thevegansclublifestyle for profile pic: 100% 1/1 [00:00<00:00, 1726.05 images/s]\n",
      "Searching thevegansclublifestyle for posts: 1 media [00:01,  1.28s/ media]\n",
      "Downloading: 100%|##########| 33/33 [00:04<00:00,  7.33it/s]\n",
      "Searching thefeedfeed.vegan for profile pic: 100% 1/1 [00:00<00:00, 528.45 images/s]\n",
      "Searching thefeedfeed.vegan for posts: 1 media [00:02,  2.71s/ media]\n",
      "Downloading: 100%|##########| 30/30 [00:03<00:00,  7.70it/s]\n"
     ]
    }
   ],
   "source": [
    "ds_length = 200\n",
    "max_scrap = int(ds_length / len(vegan_food_accounts))\n",
    "vegan_dir = p.absolute()/'data'/'vegan'\n",
    "\n",
    "print(f'Scraping {max_scrap} for each of the {len(vegan_food_accounts)} accounts.')\n",
    "for username in vegan_food_accounts:\n",
    "    !instagram-scraper @insta_args.txt {username} -t image -m {max_scrap} -d {vegan_dir}\n"
   ]
  },
  {
   "cell_type": "code",
   "execution_count": 57,
   "metadata": {},
   "outputs": [
    {
     "name": "stdout",
     "output_type": "stream",
     "text": [
      "Scraping 25 for each of the 8 accounts.\n",
      "Searching jimboystaco for profile pic: 100% 1/1 [00:00<00:00, 1227.84 images/s]\n",
      "Searching jimboystaco for posts: 15 media [00:02,  5.75 media/s]\n",
      "Downloading: 100%|##########| 14/14 [00:11<00:00,  1.94s/it]\n",
      "Searching burgersofthedays for profile pic: 100% 1/1 [00:00<00:00, 452.75 images/s]\n",
      "Searching burgersofthedays for posts: 1 media [00:00,  1.36 media/s]\n",
      "Downloading: 100%|##########| 26/26 [00:03<00:00,  7.45it/s]\n",
      "Searching sushiporn for profile pic: 100% 1/1 [00:00<00:00, 1780.26 images/s]\n",
      "Searching sushiporn for posts: 1 media [00:00,  1.53 media/s]\n",
      "Downloading: 100%|##########| 26/26 [00:03<00:00,  7.60it/s]\n",
      "Searching foodgawker for profile pic: 100% 1/1 [00:00<00:00, 1264.87 images/s]\n",
      "Searching foodgawker for posts: 1 media [00:00,  1.30 media/s]\n",
      "Downloading: 100%|##########| 26/26 [00:03<00:00,  8.17it/s]\n",
      "Searching cy_eats for profile pic: 100% 1/1 [00:00<00:00, 1340.03 images/s]\n",
      "Searching cy_eats for posts: 1 media [00:06,  6.77s/ media]\n",
      "Downloading: 100%|##########| 25/25 [00:07<00:00,  1.16it/s]\n",
      "Searching ks_ate_here for profile pic: 100% 1/1 [00:00<00:00, 1487.34 images/s]\n",
      "Searching ks_ate_here for posts: 1 media [00:17, 17.66s/ media]\n",
      "Downloading:   0%|          | 0/26 [00:00<?, ?it/s]\u001b[A\n",
      "Downloading:   8%|7         | 2/26 [00:01<00:18,  1.30it/s]\u001b[A\n",
      "Downloading:  12%|#1        | 3/26 [00:02<00:16,  1.43it/s]\u001b[A\n",
      "Downloading:  15%|#5        | 4/26 [00:02<00:15,  1.44it/s]\u001b[A\n",
      "Downloading:  19%|#9        | 5/26 [00:02<00:11,  1.87it/s]\u001b[A\n",
      "Downloading:  23%|##3       | 6/26 [00:03<00:09,  2.01it/s]\u001b[A\n",
      "Downloading:  31%|###       | 8/26 [00:03<00:08,  2.23it/s]\u001b[A\n",
      "Downloading:  38%|###8      | 10/26 [00:05<00:07,  2.08it/s]\u001b[A\n",
      "Downloading:  42%|####2     | 11/26 [00:05<00:06,  2.43it/s]\u001b[A\n",
      "Downloading:  46%|####6     | 12/26 [00:05<00:05,  2.35it/s]\u001b[A\n",
      "Downloading:  54%|#####3    | 14/26 [00:06<00:04,  2.51it/s]\u001b[A\n",
      "Downloading:  62%|######1   | 16/26 [00:06<00:03,  3.33it/s]\u001b[A\n",
      "Downloading:  65%|######5   | 17/26 [00:06<00:02,  4.10it/s]\u001b[A\n",
      "Downloading:  69%|######9   | 18/26 [00:07<00:02,  3.41it/s]\u001b[A\n",
      "Downloading:  73%|#######3  | 19/26 [00:07<00:02,  2.47it/s]\u001b[A\n",
      "Downloading:  77%|#######6  | 20/26 [00:08<00:02,  2.48it/s]\u001b[A\n",
      "Downloading:  81%|########  | 21/26 [00:09<00:02,  1.87it/s]\u001b[A\n",
      "Downloading:  85%|########4 | 22/26 [00:09<00:02,  1.57it/s]\u001b[A\n",
      "Downloading:  88%|########8 | 23/26 [00:10<00:01,  1.93it/s]\u001b[A\n",
      "Downloading:  96%|#########6| 25/26 [00:10<00:00,  2.17it/s]\u001b[A\n",
      "Downloading: 100%|##########| 26/26 [00:11<00:00,  1.51it/s]\u001b[A\n",
      "\u001b[AException ignored in: <function tqdm.__del__ at 0x7f653b596510>\n",
      "Traceback (most recent call last):\n",
      "  File \"/home/sandrine_verdugier/anaconda3/lib/python3.7/site-packages/tqdm/_tqdm.py\", line 931, in __del__\n",
      "    self.close()\n",
      "  File \"/home/sandrine_verdugier/anaconda3/lib/python3.7/site-packages/tqdm/_tqdm.py\", line 1133, in close\n",
      "    self._decr_instances(self)\n",
      "  File \"/home/sandrine_verdugier/anaconda3/lib/python3.7/site-packages/tqdm/_tqdm.py\", line 496, in _decr_instances\n",
      "    cls.monitor.exit()\n",
      "  File \"/home/sandrine_verdugier/anaconda3/lib/python3.7/site-packages/tqdm/_monitor.py\", line 52, in exit\n",
      "    self.join()\n",
      "  File \"/home/sandrine_verdugier/anaconda3/lib/python3.7/threading.py\", line 1029, in join\n",
      "    raise RuntimeError(\"cannot join current thread\")\n",
      "RuntimeError: cannot join current thread\n",
      "Searching thefeedfeed for profile pic: 100% 1/1 [00:00<00:00, 1498.50 images/s]\n",
      "Searching thefeedfeed for posts: 1 media [00:01,  1.50s/ media]\n",
      "Downloading: 100%|##########| 24/24 [00:03<00:00,  7.33it/s]\n",
      "Searching huttoneats for profile pic: 100% 1/1 [00:00<00:00, 1292.54 images/s]\n",
      "Searching huttoneats for posts: 1 media [00:01,  1.46s/ media]\n",
      "Downloading: 100%|##########| 26/26 [00:03<00:00,  9.40it/s]\n"
     ]
    }
   ],
   "source": [
    "ds_length = 200\n",
    "max_scrap = int(ds_length / len(not_vegan_food_accounts))\n",
    "not_vegan_dir = p.absolute()/'data'/'not_vegan'\n",
    "\n",
    "print(f'Scraping {max_scrap} for each of the {len(not_vegan_food_accounts)} accounts.')\n",
    "for username in not_vegan_food_accounts:\n",
    "    !instagram-scraper @insta_args.txt {username} -t image -m {max_scrap} -d {not_vegan_dir}"
   ]
  },
  {
   "cell_type": "code",
   "execution_count": 58,
   "metadata": {},
   "outputs": [],
   "source": [
    "is_a_video = lambda path : '.mp4' in str(path)\n",
    "for each_dir in [vegan_dir, not_vegan_dir]:\n",
    "    for each_file in each_dir.iterdir():\n",
    "        if is_a_video(each_file):\n",
    "            each_file.unlink()"
   ]
  },
  {
   "cell_type": "code",
   "execution_count": null,
   "metadata": {},
   "outputs": [],
   "source": []
  }
 ],
 "metadata": {
  "kernelspec": {
   "display_name": "fastai",
   "language": "python",
   "name": "fastai"
  },
  "language_info": {
   "codemirror_mode": {
    "name": "ipython",
    "version": 3
   },
   "file_extension": ".py",
   "mimetype": "text/x-python",
   "name": "python",
   "nbconvert_exporter": "python",
   "pygments_lexer": "ipython3",
   "version": "3.7.2"
  }
 },
 "nbformat": 4,
 "nbformat_minor": 2
}
